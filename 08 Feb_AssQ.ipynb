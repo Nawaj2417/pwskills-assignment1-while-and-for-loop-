{
 "cells": [
  {
   "cell_type": "code",
   "execution_count": 2,
   "id": "299e823e",
   "metadata": {},
   "outputs": [
    {
     "name": "stdout",
     "output_type": "stream",
     "text": [
      "starting.....\n",
      "stopping....\n"
     ]
    }
   ],
   "source": [
    "# Q1. What is Abstraction in OOps? Explain with an example.\n",
    "# Ans:- Abstraction is a way of representing complex systems in a simpler way. It is a process of hiding implementation details while\n",
    "#     providing a simplified interface for the users to interact with.\n",
    "\n",
    "# examples:\n",
    "from abc import ABC, abstractmethod\n",
    "class Vehicle(ABC):\n",
    "    @abstractmethod\n",
    "    def start(self):\n",
    "        pass\n",
    "    def stop(self):\n",
    "        pass\n",
    "class Car(Vehicle):\n",
    "    def start(self):\n",
    "        print (\"starting.....\")\n",
    "    def stop(self):\n",
    "        print(\"stopping....\")\n",
    "car = Car()\n",
    "car.start()\n",
    "car.stop()\n",
    "\n",
    "# python provides the abc module for the abstraction.In example, the Vehicle class is an abstract class that defines two abstract methods\n",
    "# start and stop.\n"
   ]
  },
  {
   "cell_type": "code",
   "execution_count": 1,
   "id": "3f16126a",
   "metadata": {},
   "outputs": [
    {
     "name": "stdout",
     "output_type": "stream",
     "text": [
      "starting Black car Toyota\n",
      "stopping Black, car Toyota\n"
     ]
    }
   ],
   "source": [
    "# 2.Differentiate between Abstraction and Encapsulation. Explain with an example.\n",
    "\n",
    "from abc import ABC, abstractmethod\n",
    "class Vehicle(ABC):\n",
    "    def __init__(self, name, speed):\n",
    "        self.name = name\n",
    "        self.speed = speed\n",
    "        \n",
    "    @abstractmethod\n",
    "    def start(self):\n",
    "        pass\n",
    "    @abstractmethod\n",
    "    def stop(self):\n",
    "        pass\n",
    "class Car(Vehicle):\n",
    "    def __init__(self, name, speed, color):\n",
    "        super().__init__(name,speed)\n",
    "        self.color = color\n",
    "    def start(self):\n",
    "        print(f\"starting {self.color} car {self.name}\")\n",
    "    def stop(self):\n",
    "        print(f\"stopping {self.color}, car {self.name}\")\n",
    "    \n",
    "\n",
    "car = Car(\"Toyota\", 200, \"Black\")\n",
    "car.start()\n",
    "car.stop()\n",
    "\n",
    "# In this examples, Vehicle class is an abstract that defines the common features of all vehicles such as name , speed and start and stop methods\n",
    "# that are specific to each vehicles.\n",
    "# where as encapsulation is use to access modifiers, such as the private self.color attributes in the Car classes which hide the \n",
    "# internal state of the objects from external access and manipulation.\n",
    "    "
   ]
  },
  {
   "cell_type": "code",
   "execution_count": null,
   "id": "5d45c7ad",
   "metadata": {},
   "outputs": [],
   "source": [
    "Q3. What is abc module in python? Why is it used?\n",
    "Ans:= abc(abstract base classes) module in python specifies a basic interface that its sub classes should implement.\n",
    "    It is used to create abstract base classes in python which defines set of classes and functions that can be define abstract base\n",
    "    classes and to check if a class or an object conforms to a given interface."
   ]
  },
  {
   "cell_type": "code",
   "execution_count": null,
   "id": "03dcd78b",
   "metadata": {},
   "outputs": [],
   "source": [
    "Q4. How can we achieve data abstraction?\n",
    "Ans:- Data abstraction refers to the process of hiding the implementation details of a class from the outside world and only exposing\n",
    "    the essential features of the class. \n",
    "    There are various  mechanism of it :-\n",
    "        1. Encapsulation\n",
    "        2. Abstraction\n",
    "        3. Inheritance\n",
    "        4. interface classes\n",
    "        "
   ]
  },
  {
   "cell_type": "code",
   "execution_count": null,
   "id": "d2f1fd12",
   "metadata": {},
   "outputs": [],
   "source": [
    "5. Q5. Can we create an instance of an abstract class? Explain your answer.\n",
    "Ans:- No, we cannot create an instance of an abstract class in Python.\n",
    "    An abstract class is a class that is meant to be subclassed and not instantiated directly.\n",
    "    It defines a set of abstract methods that must be implemented by its subclasses."
   ]
  }
 ],
 "metadata": {
  "kernelspec": {
   "display_name": "Python 3 (ipykernel)",
   "language": "python",
   "name": "python3"
  },
  "language_info": {
   "codemirror_mode": {
    "name": "ipython",
    "version": 3
   },
   "file_extension": ".py",
   "mimetype": "text/x-python",
   "name": "python",
   "nbconvert_exporter": "python",
   "pygments_lexer": "ipython3",
   "version": "3.10.4"
  }
 },
 "nbformat": 4,
 "nbformat_minor": 5
}
