{
 "cells": [
  {
   "cell_type": "code",
   "execution_count": 1,
   "id": "41ac5bc1",
   "metadata": {},
   "outputs": [],
   "source": [
    "# 1. explain with an example each when to use a for loop and a while loop.\n"
   ]
  },
  {
   "cell_type": "code",
   "execution_count": 1,
   "id": "4363dde9",
   "metadata": {},
   "outputs": [
    {
     "name": "stdout",
     "output_type": "stream",
     "text": [
      "Enter the first number: 23\n",
      "Enter the second number: 60\n",
      "1577\n",
      "The sum is odd number.\n"
     ]
    }
   ],
   "source": [
    "#  For for loop\n",
    "# we use for loop when we have a  specific number of iterations to perform, and know that exact items we want to iterate over.\n",
    "# Examples of for loop to find the sum of between two number given by the user.Also find the either result is odd or even number\n",
    "num1 = int(input(\"Enter the first number: \"))\n",
    "num2 = int(input(\"Enter the second number: \"))\n",
    "sum = 0\n",
    "for i in range(num1, num2+1):\n",
    "    sum +=i\n",
    "print(sum)\n",
    "if sum%2==0:\n",
    "    print(\"The sum is even number\")\n",
    "else:\n",
    "    print(\"The sum is odd number.\")\n",
    "\n"
   ]
  },
  {
   "cell_type": "code",
   "execution_count": 19,
   "id": "ce206c58",
   "metadata": {},
   "outputs": [
    {
     "name": "stdout",
     "output_type": "stream",
     "text": [
      "Enter the number : 23\n",
      "23 is a prime number \n"
     ]
    }
   ],
   "source": [
    "# using while loop\n",
    "# while loop is used to repeatedly execute a block of code as long as a specified condition is true.\n",
    "# It includes a condition that is checked at the beginnig of each iteration.\n",
    "# check whether the number given by user is prime or not\n",
    "num = int(input(\"Enter the number : \"))\n",
    "if num> 1:\n",
    "    i =2\n",
    "    while i < num :\n",
    "        if (num % i)== 0:\n",
    "            print(num, \" number is not a prime number\")\n",
    "            break\n",
    "        i +=1\n",
    "    else:\n",
    "            print(num, \"is a prime number \")\n",
    "else:\n",
    "    print(num, \"is not a prime number.\")\n",
    "\n"
   ]
  },
  {
   "cell_type": "code",
   "execution_count": 4,
   "id": "c601526a",
   "metadata": {},
   "outputs": [
    {
     "name": "stdout",
     "output_type": "stream",
     "text": [
      "The sum of first 10 natural number is :  55\n"
     ]
    }
   ],
   "source": [
    "# 2. write a python program to print the sum and product of the first 10 natural numbers using for and while loop\n",
    "\n",
    "# for while loop\n",
    "\n",
    "sum = 0\n",
    "i =1\n",
    "while i<= 10:\n",
    "    sum = sum + i\n",
    "    i = i+1\n",
    "print(\"The sum of first 10 natural number is : \", sum)\n",
    "\n"
   ]
  },
  {
   "cell_type": "code",
   "execution_count": 6,
   "id": "1572e8a3",
   "metadata": {},
   "outputs": [
    {
     "name": "stdout",
     "output_type": "stream",
     "text": [
      "The sum of first 10 natural numbers is: 55\n"
     ]
    }
   ],
   "source": [
    "# using for loop\n",
    "sum = 0\n",
    "for i in range(1, 11):\n",
    "    sum = sum + i\n",
    "print(\"The sum of first 10 natural numbers is:\", sum)\n"
   ]
  },
  {
   "cell_type": "code",
   "execution_count": 12,
   "id": "c95ff645",
   "metadata": {},
   "outputs": [
    {
     "name": "stdout",
     "output_type": "stream",
     "text": [
      "Enter the number of units consumed: 310\n",
      "The total electricity bill is Rs. 2250.0\n"
     ]
    }
   ],
   "source": [
    "#3. create a python program to compute the electricity bill for household\n",
    "units = int(input(\"Enter the number of units consumed: \"))\n",
    "\n",
    "def calculate_bills(units):\n",
    "    if units <=100:\n",
    "        bill = units *4.5\n",
    "    elif units <=200:\n",
    "        bill = (100* 4.5) + ((units-100) *6)\n",
    "    elif units <=300:\n",
    "        bill = (100*4.5) + (100*6) + ((units-200)*10)\n",
    "    else:\n",
    "        bill = (100*4.5) + (100*6) + (100*10) + ((units-300)*20)\n",
    "    return bill\n",
    "bill= calculate_bills(units)\n",
    "print(\"The total electricity bill is Rs.\", bill)\n"
   ]
  },
  {
   "cell_type": "code",
   "execution_count": 14,
   "id": "5e835962",
   "metadata": {},
   "outputs": [
    {
     "name": "stdout",
     "output_type": "stream",
     "text": [
      "The number is :  [2, 4, 5, 6, 8, 10, 12, 14, 15, 16, 18, 20, 22, 24, 25, 26, 28, 30, 32, 34, 35, 36, 38, 40, 42, 44, 45, 46, 48, 50, 52, 54, 55, 56, 58, 60, 62, 64, 65, 66, 68, 70, 72, 74, 75, 76, 78, 80, 82, 84, 85, 86, 88, 90, 92, 94, 95, 96, 98, 100]\n"
     ]
    }
   ],
   "source": [
    "# 4. create a list of numbers from 1 to 100. use for loop and while loop to calculate the cube of each number and if the cube of that number is divisible by 4 or 5 then append that number in a list and print that list.\n",
    "# using for loops\n",
    "numbers = []\n",
    "for i in range(1,101):\n",
    "    cube = i**3\n",
    "    if (cube % 4==0) or (cube % 5 ==0):\n",
    "        numbers.append(i)\n",
    "print(\"The number is : \", numbers)"
   ]
  },
  {
   "cell_type": "code",
   "execution_count": 16,
   "id": "2b587196",
   "metadata": {},
   "outputs": [
    {
     "name": "stdout",
     "output_type": "stream",
     "text": [
      "The number is :  [2, 4, 5, 6, 8, 10, 12, 14, 15, 16, 18, 20, 22, 24, 25, 26, 28, 30, 32, 34, 35, 36, 38, 40, 42, 44, 45, 46, 48, 50, 52, 54, 55, 56, 58, 60, 62, 64, 65, 66, 68, 70, 72, 74, 75, 76, 78, 80, 82, 84, 85, 86, 88, 90, 92, 94, 95, 96, 98, 100]\n"
     ]
    }
   ],
   "source": [
    "# using while loop\n",
    "i =1\n",
    "numbers =[]\n",
    "while i<=100:\n",
    "    cube = i**3\n",
    "    if (cube % 4 ==0) or (cube % 5 ==0):\n",
    "        numbers.append(i)\n",
    "    i +=1\n",
    "print(\"The number is : \", numbers)"
   ]
  },
  {
   "cell_type": "code",
   "execution_count": 17,
   "id": "ad61d5de",
   "metadata": {},
   "outputs": [
    {
     "name": "stdout",
     "output_type": "stream",
     "text": [
      "The number of vowels in the string is :  12\n"
     ]
    }
   ],
   "source": [
    "# 5.Write a program to filter count vowels in the below-given string.\n",
    "# string = \"I want to become a data scientist\"\n",
    "string = \" I want to become a data scientist\"\n",
    "vowels = \"aeiouAEIOU\"\n",
    "count=0\n",
    "\n",
    "for char in string:\n",
    "    if char in vowels:\n",
    "        count +=1\n",
    "print(\"The number of vowels in the string is : \", count)"
   ]
  }
 ],
 "metadata": {
  "kernelspec": {
   "display_name": "Python 3 (ipykernel)",
   "language": "python",
   "name": "python3"
  },
  "language_info": {
   "codemirror_mode": {
    "name": "ipython",
    "version": 3
   },
   "file_extension": ".py",
   "mimetype": "text/x-python",
   "name": "python",
   "nbconvert_exporter": "python",
   "pygments_lexer": "ipython3",
   "version": "3.10.4"
  }
 },
 "nbformat": 4,
 "nbformat_minor": 5
}
