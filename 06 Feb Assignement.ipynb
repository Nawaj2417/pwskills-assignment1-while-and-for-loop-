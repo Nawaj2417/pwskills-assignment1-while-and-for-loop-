{
 "cells": [
  {
   "cell_type": "code",
   "execution_count": 25,
   "id": "8f119870",
   "metadata": {},
   "outputs": [
    {
     "name": "stdout",
     "output_type": "stream",
     "text": [
      "[1, 2, 3, 4, 44, 55, 66, 34, 56, 78, 89, 34, 1, 2, 3, 34, 55, 67, 78, 89, 45, 22, 61, 34, 56]\n",
      "1033677959746771369708460310528000\n"
     ]
    }
   ],
   "source": [
    "# Q1. Create a function which will take a list as an argument and return the product of all the numbers\n",
    "# after creating a flat list.\n",
    "# Use the below-given list as an argument for your function.\n",
    "# list1 = [1,2,3,4, [44,55,66, True], False, (34,56,78,89,34), {1,2,3,3,2,1}, {1:34, \"key2\": [55, 67, 78, 89], 4: (45,\n",
    "# 22, 61, 34)}, [56, 'data science'], 'Machine Learning']\n",
    "# Note: you must extract numeric keys and values of the dictionary also.\n",
    "\n",
    "# list1 = [1,2,3,4, [44,55,66, True], False, (34,56,78,89,34), {1,2,3,3,2,1}, {1:34, \"key2\": [55, 67, 78, 89], 4: (45,\n",
    "# 22, 61, 34)}, [56, 'data science'], 'Machine Learning']\n",
    "\n",
    "def numbers(x):\n",
    "    flat_list = []\n",
    "    for element in x:\n",
    "        if isinstance(element, (list, tuple)):\n",
    "            flat_list.extend(numbers(element))\n",
    "        elif isinstance(element, set):\n",
    "            flat_list.extend(numbers(list(element)))\n",
    "        elif isinstance(element, dict):\n",
    "            flat_list.extend(numbers(element.values()))\n",
    "        elif isinstance(element, bool):\n",
    "            continue\n",
    "        elif isinstance(element, (int, float)):\n",
    "            flat_list.append(element)\n",
    "    return flat_list\n",
    "\n",
    "list1 = [1, 2, 3, 4, [44, 55, 66, True], False, (34, 56, 78, 89, 34), {1, 2, 3, 3, 2, 1}, {1: 34, \"key2\": [55, 67, 78, 89], 4: (45, 22, 61, 34)}, [56, 'data science'], 'Machine Learning']\n",
    "\n",
    "result = numbers(list1)\n",
    "product = 1\n",
    "for num in result:\n",
    "    product *=num\n",
    "\n",
    "print(result)\n",
    "print(product)\n"
   ]
  },
  {
   "cell_type": "code",
   "execution_count": 28,
   "id": "eb8bf9bf",
   "metadata": {},
   "outputs": [
    {
     "name": "stdout",
     "output_type": "stream",
     "text": [
      "r$dzmg$gl$yvxlnv$z$wzgz$hxrvmgrhg\n"
     ]
    }
   ],
   "source": [
    "# Q2. Write a python program for encrypting a message sent to you by your friend. The logic of encryption\n",
    "# should be such that, for a the output should be z. For b, the output should be y. For c, the output should\n",
    "# be x respectively. Also, the whitespace should be replaced with a dollar sign. Keep the punctuation\n",
    "# marks unchanged.\n",
    "# Input Sentence: I want to become a Data Scientist.\n",
    "# Encrypt the above input sentence using the program you just created.\n",
    "# Note: Convert the given input sentence into lowercase before encrypting. The final output should be\n",
    "# lowercase.\n",
    "\n",
    "input_sentence = \"I want to become a Data Scientist\"\n",
    "\n",
    "def message(msg):\n",
    "    encrypt = ''\n",
    "    for char in msg.lower():\n",
    "        if char == ' ':\n",
    "            encrypt +='$'\n",
    "        elif char.isalpha():\n",
    "            encrypt +=chr(219 - ord(char))\n",
    "        else:\n",
    "            encrypt += char\n",
    "    return encrypt.lower()\n",
    "msg_encrypt = message(input_sentence)\n",
    "print(msg_encrypt)\n",
    "\n"
   ]
  },
  {
   "cell_type": "code",
   "execution_count": null,
   "id": "5ac33201",
   "metadata": {},
   "outputs": [],
   "source": []
  },
  {
   "cell_type": "code",
   "execution_count": null,
   "id": "4f1aa0b5",
   "metadata": {},
   "outputs": [],
   "source": [
    "\n"
   ]
  },
  {
   "cell_type": "code",
   "execution_count": null,
   "id": "44aced15",
   "metadata": {},
   "outputs": [],
   "source": []
  },
  {
   "cell_type": "code",
   "execution_count": null,
   "id": "f702097e",
   "metadata": {},
   "outputs": [],
   "source": [
    "\n"
   ]
  },
  {
   "cell_type": "code",
   "execution_count": null,
   "id": "27c1c86f",
   "metadata": {},
   "outputs": [],
   "source": []
  },
  {
   "cell_type": "code",
   "execution_count": null,
   "id": "d40908b1",
   "metadata": {},
   "outputs": [],
   "source": []
  },
  {
   "cell_type": "code",
   "execution_count": null,
   "id": "44ea8c30",
   "metadata": {},
   "outputs": [],
   "source": [
    "\n"
   ]
  },
  {
   "cell_type": "code",
   "execution_count": null,
   "id": "27691550",
   "metadata": {},
   "outputs": [],
   "source": []
  }
 ],
 "metadata": {
  "kernelspec": {
   "display_name": "Python 3 (ipykernel)",
   "language": "python",
   "name": "python3"
  },
  "language_info": {
   "codemirror_mode": {
    "name": "ipython",
    "version": 3
   },
   "file_extension": ".py",
   "mimetype": "text/x-python",
   "name": "python",
   "nbconvert_exporter": "python",
   "pygments_lexer": "ipython3",
   "version": "3.10.4"
  }
 },
 "nbformat": 4,
 "nbformat_minor": 5
}
