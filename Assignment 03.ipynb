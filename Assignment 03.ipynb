{
 "cells": [
  {
   "cell_type": "code",
   "execution_count": 9,
   "id": "814a65e6",
   "metadata": {},
   "outputs": [
    {
     "data": {
      "text/plain": [
       "[1, 3, 5, 7, 9, 11, 13, 15, 17, 19, 21, 23, 25]"
      ]
     },
     "execution_count": 9,
     "metadata": {},
     "output_type": "execute_result"
    }
   ],
   "source": [
    "# 1. which keyboard is used to create a function ? create a function to return a list of odd numbers in the range of 1 to 25\n",
    "# The key 'def' keyboard is used to createa a function.\n",
    "\n",
    "def odd_num():\n",
    "    odd_numbers = []\n",
    "    for number in range(1,26):\n",
    "        if number %2 !=0:\n",
    "            odd_numbers.append(number)\n",
    "    return odd_numbers\n",
    "odd_num()"
   ]
  },
  {
   "cell_type": "code",
   "execution_count": 7,
   "id": "188c5c30",
   "metadata": {},
   "outputs": [
    {
     "data": {
      "text/plain": [
       "(1, 2, 4, 5)"
      ]
     },
     "execution_count": 7,
     "metadata": {},
     "output_type": "execute_result"
    }
   ],
   "source": [
    "# 2. why '*args' and **kwargs is used in some functions? create a function each for \"*args\" and '**kwargs' to demonstrate their use.\n",
    "# \"*args\" is used to pass a variable number of non-keyword arguments to a function. It allows you to pass a tuple of arguments to the function, which is then\n",
    "# unpacked and treated as separate positional arguments.\n",
    "\n",
    "def args_1(*args):\n",
    "    return args\n",
    "args_1(1,2,4,5)"
   ]
  },
  {
   "cell_type": "code",
   "execution_count": 10,
   "id": "36510dfe",
   "metadata": {},
   "outputs": [
    {
     "data": {
      "text/plain": [
       "{'a': [1, 2, 3, 5, 3, 5], 'b': 'nawaj', 'c': 23.23}"
      ]
     },
     "execution_count": 10,
     "metadata": {},
     "output_type": "execute_result"
    }
   ],
   "source": [
    "# ''**kwargs' is used to pass a variale number of keyword arguments to a function. It allows you to pass a dictionary of keyword arguments to the function, which can then be accessed as individual key-value pairs.\n",
    "def key_args(**kwargs):\n",
    "    return kwargs\n",
    "key_args(a = [1,2,3,5,3,5], b = \"nawaj\", c=23.23)"
   ]
  },
  {
   "cell_type": "code",
   "execution_count": 15,
   "id": "7cc1057c",
   "metadata": {},
   "outputs": [
    {
     "name": "stdout",
     "output_type": "stream",
     "text": [
      "2\n",
      "4\n",
      "6\n",
      "8\n",
      "10\n"
     ]
    }
   ],
   "source": [
    "# Q3. What is an iterator in python? Name the method used to initialise the iterator object and the method\n",
    "# used for iteration. Use these methods to print the first five elements of the given list [2, 4, 6, 8, 10, 12, 14,\n",
    "#  16, 18, 20].\n",
    "\n",
    "\n",
    "# Ans:- An iterator in python is an object that implements the iterator protocol, which consists of two methods\n",
    "#     '__iter__' and '__next__'. The  '__iter__' methods is used to initialize the iterator object and the '__next__' \n",
    "#     method is used for iterations.\n",
    "\n",
    "l=[2, 4, 6, 8, 10, 12, 14, 16, 18, 20]\n",
    "# initialize the iterator object\n",
    "l_iter = iter(l)\n",
    "\n",
    "# using the next() function to get the next value from the iterator\n",
    "for i in range(5):\n",
    "    print(next(l_iter))\n",
    "\n"
   ]
  },
  {
   "cell_type": "code",
   "execution_count": 21,
   "id": "1e6befe3",
   "metadata": {},
   "outputs": [
    {
     "name": "stdout",
     "output_type": "stream",
     "text": [
      "1\n",
      "4\n",
      "9\n",
      "16\n",
      "25\n",
      "36\n",
      "49\n",
      "64\n",
      "81\n",
      "100\n"
     ]
    }
   ],
   "source": [
    "# Q4. What is a generator function in python? Why yield keyword is used? Give an example of a generator\n",
    "# function.\n",
    "\n",
    "\n",
    "# Ans:- A generator function in python is a function that uses the 'yield' keyword instead\n",
    "#     of the 'return' keyword.It return a generator object, which can be iterated over using a 'for'\n",
    "# loop or the 'next()' function.\n",
    "\n",
    "# A yield keyword is used because it allows the generator function to produce\n",
    "# values one at a time, instead of creating a list or other data structure to store\n",
    "# all the values.\n",
    "\n",
    "def square_generator():\n",
    "    for i in range(1, 11):\n",
    "        yield i*i\n",
    "squares =square_generator()\n",
    "for square in squares:\n",
    "    print(square)\n"
   ]
  },
  {
   "cell_type": "code",
   "execution_count": 24,
   "id": "96a8c1fc",
   "metadata": {
    "scrolled": true
   },
   "outputs": [
    {
     "name": "stdout",
     "output_type": "stream",
     "text": [
      "2\n",
      "3\n",
      "5\n",
      "7\n",
      "11\n",
      "13\n",
      "17\n",
      "19\n",
      "23\n",
      "29\n",
      "31\n",
      "37\n",
      "41\n",
      "43\n",
      "47\n",
      "53\n",
      "59\n",
      "61\n",
      "67\n",
      "71\n"
     ]
    }
   ],
   "source": [
    "# Q5. Create a generator function for prime numbers less than 1000. Use the next() method to print the\n",
    "# first 20 prime numbers.\n",
    "\n",
    "def prime_numbers():\n",
    "    primes=[]\n",
    "    for num in range(2,1000):\n",
    "        for prime in  primes:\n",
    "            if num % prime ==0:\n",
    "                break\n",
    "        else:\n",
    "            primes.append(num)\n",
    "            yield num\n",
    "primes = prime_numbers()\n",
    "for i in range(20):\n",
    "    print(next(primes))"
   ]
  },
  {
   "cell_type": "code",
   "execution_count": 29,
   "id": "f48dc1ba",
   "metadata": {},
   "outputs": [
    {
     "name": "stdout",
     "output_type": "stream",
     "text": [
      "0\n",
      "1\n",
      "1\n",
      "2\n",
      "3\n",
      "5\n",
      "8\n",
      "13\n",
      "21\n",
      "34\n"
     ]
    }
   ],
   "source": [
    "# 6. write a program to print the first 10 fibonacci numbers using a while loop.\n",
    "\n",
    "def fib_num():\n",
    "    a, b =0, 1\n",
    "    while True:\n",
    "        yield a\n",
    "        a,b = b, a+b\n",
    "fib = fib_num()\n",
    "for i in range(10):\n",
    "    print(next(fib))"
   ]
  },
  {
   "cell_type": "code",
   "execution_count": 43,
   "id": "da51e29b",
   "metadata": {},
   "outputs": [
    {
     "data": {
      "text/plain": [
       "['p', 'w', 's', 'k', 'i', 'l', 'l', 's']"
      ]
     },
     "execution_count": 43,
     "metadata": {},
     "output_type": "execute_result"
    }
   ],
   "source": [
    "# Q7. Write a List Comprehension to iterate through the given string: ‘pwskills’.\n",
    "# Expected output: ['p', 'w', 's', 'k', 'i', 'l', 'l', 's']\n",
    "l = 'pwskills'\n",
    "result = []\n",
    "for i in l:\n",
    "    result.append(i)\n",
    "result\n",
    "\n",
    "# using list function\n",
    "l = 'pwskills'\n",
    "list(l)\n",
    "    \n"
   ]
  },
  {
   "cell_type": "code",
   "execution_count": 45,
   "id": "eb0ac5c1",
   "metadata": {},
   "outputs": [
    {
     "name": "stdout",
     "output_type": "stream",
     "text": [
      "Enter the number: 3452\n",
      "3452 is not a  palindrome number.\n"
     ]
    }
   ],
   "source": [
    "# Q8. Write a python program to check whether a given number is Palindrome or not using a while loop.\n",
    "num = int(input(\"Enter the number: \"))\n",
    "def check_palindrome(num):\n",
    "    return str(num) == str(num)[::-1]\n",
    "if check_palindrome(num):\n",
    "    print(num, 'is a palindrome number.')\n",
    "else:\n",
    "    print(num, 'is not a  palindrome number.')\n"
   ]
  },
  {
   "cell_type": "code",
   "execution_count": 50,
   "id": "3ee41b21",
   "metadata": {},
   "outputs": [
    {
     "name": "stdout",
     "output_type": "stream",
     "text": [
      "Odd numbers from 1 to 100: [1, 3, 5, 7, 9, 11, 13, 15, 17, 19, 21, 23, 25, 27, 29, 31, 33, 35, 37, 39, 41, 43, 45, 47, 49, 51, 53, 55, 57, 59, 61, 63, 65, 67, 69, 71, 73, 75, 77, 79, 81, 83, 85, 87, 89, 91, 93, 95, 97, 99]\n"
     ]
    }
   ],
   "source": [
    "# Q9. Write a code to print odd numbers from 1 to 100 using list comprehension.\n",
    "\n",
    "odd_numbers = [x for x in range(1, 101) if x % 2 != 0]\n",
    "print(\"Odd numbers from 1 to 100:\", odd_numbers)\n"
   ]
  },
  {
   "cell_type": "code",
   "execution_count": null,
   "id": "a5aab14b",
   "metadata": {},
   "outputs": [],
   "source": [
    "\n"
   ]
  },
  {
   "cell_type": "code",
   "execution_count": null,
   "id": "74e089cf",
   "metadata": {},
   "outputs": [],
   "source": []
  }
 ],
 "metadata": {
  "kernelspec": {
   "display_name": "Python 3 (ipykernel)",
   "language": "python",
   "name": "python3"
  },
  "language_info": {
   "codemirror_mode": {
    "name": "ipython",
    "version": 3
   },
   "file_extension": ".py",
   "mimetype": "text/x-python",
   "name": "python",
   "nbconvert_exporter": "python",
   "pygments_lexer": "ipython3",
   "version": "3.10.4"
  }
 },
 "nbformat": 4,
 "nbformat_minor": 5
}
