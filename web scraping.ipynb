{
 "cells": [
  {
   "cell_type": "code",
   "execution_count": null,
   "id": "9fc96620",
   "metadata": {},
   "outputs": [],
   "source": [
    "Q1. What is Web Scraping? Why is it Used? Give three areas where Web Scraping is used to get data.\n",
    "Ans:-Web scraping refers to the process of authomatically extracting data from the websites. It involves\n",
    "    writing a program or scripts that can navigate through web pages, locate specific pieces of informations, \n",
    "    extract them for further analysis or use.\n",
    "    \n",
    "    it is used for various purposes includeing, data collection , automation and research.\n",
    "    \n",
    "    Any three areas it is used to get data are:-\n",
    "        1. social media:-it is used to collect data  from social media platforms like twitter, facebook, and\n",
    "            linkedin which are used to analyze user behaviour, sentiment , and engagement.\n",
    "        2. E-commerce:- it is used to collect pricing and product data from e-commenrce websiter used to monitor \n",
    "                competitors, optimize pricing .\n",
    "        3. Business intelligence:- It is used to collect data on business, including financial data, company \n",
    "            profiles and industry trends.\n",
    "    "
   ]
  },
  {
   "cell_type": "code",
   "execution_count": null,
   "id": "6e956633",
   "metadata": {},
   "outputs": [],
   "source": [
    "Q2. What are the different methods used for Web Scraping?\n",
    "Ans:- The different methods used for web scrapping are:- \n",
    "        1. Manual web scraping\n",
    "        2. web scraping using brower extensions\n",
    "        3. web scraping using APIs\n",
    "        4. web scraping using libraries and framework\n",
    "        5. Headless web scraping\n",
    "        6. web scraping services\n",
    "        "
   ]
  },
  {
   "cell_type": "code",
   "execution_count": null,
   "id": "4f9a9eac",
   "metadata": {},
   "outputs": [],
   "source": [
    "3. What is Beautiful Soup? Why is it used?\n",
    "Ans:- Beautiful Soup is library used for web scraping purposes which is designed to parse HTML and XML documents\n",
    "    and extract data from them in a structured way.\n",
    "    \n",
    "    It is used  for variety web scraping tasks including extracting data, cleaning data , automating tasks\n",
    "    and building applications."
   ]
  },
  {
   "cell_type": "code",
   "execution_count": null,
   "id": "0f3a0b8b",
   "metadata": {},
   "outputs": [],
   "source": [
    "Why is flask used in this Web Scraping project?\n",
    "Ans:- Flask can be used to create a web application or API that provides a user interface for running and managing\n",
    "    the web scraping process.\n",
    "    some of the reasond that flask is used in this web scraping project are:-\n",
    "        1. it can be used to create a web application with a user interface that allows user to input\n",
    "        URLs ot other parameters for the web scraping  process.\n",
    "        2. it can be used to sotre the results of the web scraping process in a database of other data programs.\\\n",
    "        3. it can be used to automate the web scraping process by running scripts or tasks on a schedule or in \n",
    "        response to specific events.\n",
    "        4. it can be used integrated with other tools and libraries, such as Beautiful Soup or Scrapy."
   ]
  },
  {
   "cell_type": "code",
   "execution_count": null,
   "id": "082833cd",
   "metadata": {},
   "outputs": [],
   "source": [
    "Q5. Write the names of AWS services used in this project. Also, explain the use of each service.\n",
    "Ans:- The names of AWS services used in this project are AWS CodePipeline and AWS  Elasitc Beanstalk.\n",
    "    1. AWS CodePipeline : It is fully managed continuous delivery service that automates the building, testing,\n",
    "        and deployment of applications. it is used to automate the continuous delivery of application code , including\n",
    "        the deploymenet to elastic beanstalk.\n",
    "    2. AWS Elastic Beanstalk:- we used Elastic Beanstalk to deploy our flask application code that is is \n",
    "        built and tested by CodePipeline."
   ]
  }
 ],
 "metadata": {
  "kernelspec": {
   "display_name": "Python 3 (ipykernel)",
   "language": "python",
   "name": "python3"
  },
  "language_info": {
   "codemirror_mode": {
    "name": "ipython",
    "version": 3
   },
   "file_extension": ".py",
   "mimetype": "text/x-python",
   "name": "python",
   "nbconvert_exporter": "python",
   "pygments_lexer": "ipython3",
   "version": "3.10.4"
  }
 },
 "nbformat": 4,
 "nbformat_minor": 5
}
