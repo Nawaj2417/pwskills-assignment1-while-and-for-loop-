{
 "cells": [
  {
   "cell_type": "code",
   "execution_count": null,
   "id": "637316e8",
   "metadata": {},
   "outputs": [],
   "source": [
    "Q1. What is an API? Give an example, where an API is used in real life.\n",
    "Ans:- API stands for \"Application Programming Interface\" which is a set of rules, protocols , and tools that\n",
    "    allows different software applications to communicate with each other and exchange data\n",
    "    or functionality.\n",
    "    \n",
    "    API are used in a wide range of applications, including social media platforms,\n",
    "    mobile apps, e-commerce websites, and more.\n",
    "    "
   ]
  },
  {
   "cell_type": "code",
   "execution_count": null,
   "id": "8781fe83",
   "metadata": {},
   "outputs": [],
   "source": [
    "Q2. Give advantages and disadvantages of using API.\n",
    "Ans:- The advantages and disadvanges of using API are:-\n",
    "    1. APIs provide a standardized way for different systems and applications to interact\n",
    "       with each other, which can save time and increase efficiency by reducing the need for manual data entry or redundant tasks.\n",
    "    2. It help business integrate different systems and services.\n",
    "    3. API's are flexible and can be used in a variety of ways such as creating data dashboards,\n",
    "       or integrating with third-party services.\n",
    "    \n",
    "    Disadvantages\n",
    "    1. It create security risks if not properly secured and monitored.\n",
    "    2. It can be complex and require specialized knowledge and expertise to\n",
    "      develop, manage and maintain.\n",
    "    3. Developing and managing APIs can be expensive, requiring resources such as \n",
    "    developers, infrastructure, and ongoing maintanence."
   ]
  },
  {
   "cell_type": "code",
   "execution_count": null,
   "id": "1ed0c98a",
   "metadata": {},
   "outputs": [],
   "source": [
    "Q3. What is a Web API? Differentiate between API and Web API.\n",
    "Ans:- A web API also known as a web service is an application programming interface(API) that is\n",
    "    accessed over the internet using standard web protocols such as HTTP or HTTPS.\n",
    "    It can be accessed using web protocols such as HTTP and HTTps. It is designed to be\n",
    "    accessed over the internet.\n",
    "    \n",
    "    similarly, API are a set of protocols, routines and tools for building software applications.\n",
    "    It can be accessed using web any communication protocols. it is designed for use within a specific system of organization.\n",
    "    "
   ]
  },
  {
   "cell_type": "code",
   "execution_count": null,
   "id": "d2bfd0da",
   "metadata": {},
   "outputs": [],
   "source": [
    "Q4. Explain REST and SOAP Architecture. Mention shortcomings of SOAP.\n",
    "Ans:- REST(Representation state transfer) is an architectural style that uses standard web protocols like HTTP and HTTPs for \n",
    "    communication and provides a lightweight, flexible and scalable approach\n",
    "     for building web services.\n",
    "    It is based on four basic priciples\n",
    "    1. client-server architecture\n",
    "    2. stateless\n",
    "    3. Cacheable\n",
    "    4. Uniform interface\n",
    "    \n",
    "    similarly, SOAP (Simple object Access Protocol) is an architecture style that\n",
    "    uses XML for communication and provides a robust and standardized approach for building web services.\n",
    "    It relies on a set of protocols for message formatting, message processing, and transport.\n",
    "    \n",
    "    Shortcoming of SOAP:-\n",
    "    some of the major shortcoming of SOAP are :-\n",
    "    1. It is more complex than REST, requiring specialized knowledge and expertise to \n",
    "    develop and maintain.\n",
    "    2. They are typically larger than REST messages, requiring more bandwidth and processing power.\n",
    "    3. SOAP can be slower than REST due to the additional processing required to handle the XML Format."
   ]
  },
  {
   "cell_type": "code",
   "execution_count": null,
   "id": "fc686395",
   "metadata": {},
   "outputs": [],
   "source": [
    "Q5. Differentiate between REST and SOAP.\n",
    "Ans:- The differentiate between REST and SOAP are :-\n",
    "    1.REST (Representational State Transfer) and SOAP (Simple Object Access Protocol) are two popular architectural styles for building web services. Here are\n",
    "    some key differences between REST and SOAP:\n",
    "    2.REST uses standard web protocols like HTTP and HTTPS for communication, while SOAP uses XML over HTTP or other transport protocols like SMTP or FTP.\n",
    "    3.REST messages are typically formatted in JSON or XML, whereas SOAP messages are always formatted in XML.\n",
    "    4.REST can use any transport protocol that supports the request/response model, while SOAP requires a dedicated transport protocol like HTTP or SMTP.\n",
    "    5.REST is generally more scalable than SOAP due to its lightweight and flexible approach, while SOAP can be more complex and require more resources to scale.\n",
    "\n",
    " "
   ]
  }
 ],
 "metadata": {
  "kernelspec": {
   "display_name": "Python 3 (ipykernel)",
   "language": "python",
   "name": "python3"
  },
  "language_info": {
   "codemirror_mode": {
    "name": "ipython",
    "version": 3
   },
   "file_extension": ".py",
   "mimetype": "text/x-python",
   "name": "python",
   "nbconvert_exporter": "python",
   "pygments_lexer": "ipython3",
   "version": "3.10.4"
  }
 },
 "nbformat": 4,
 "nbformat_minor": 5
}
