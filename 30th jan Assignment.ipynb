{
 "cells": [
  {
   "cell_type": "code",
   "execution_count": 1,
   "id": "264d9cd5",
   "metadata": {},
   "outputs": [],
   "source": [
    "# 1. write a program to accept percentage from the user and display the grade according to the following criteria."
   ]
  },
  {
   "cell_type": "code",
   "execution_count": 7,
   "id": "d405114e",
   "metadata": {},
   "outputs": [
    {
     "name": "stdout",
     "output_type": "stream",
     "text": [
      "Enter your marks: 50\n",
      "Your grade is D\n"
     ]
    }
   ],
   "source": [
    "marks = int(input(\"Enter your marks: \"))\n",
    "if marks>90 :\n",
    "    print(\"Your grade is A\")\n",
    "elif marks >80 and marks<=90:\n",
    "    print(\"your grade is B\")\n",
    "elif marks >=60 and marks <=80:\n",
    "    print(\"Your grade is C\")\n",
    "elif marks < 60:\n",
    "    print(\"Your grade is D\")\n"
   ]
  },
  {
   "cell_type": "code",
   "execution_count": 12,
   "id": "778225bb",
   "metadata": {},
   "outputs": [
    {
     "name": "stdout",
     "output_type": "stream",
     "text": [
      "Enter the cost price of the bike: 450000\n",
      "Tax: 67500.0\n"
     ]
    }
   ],
   "source": [
    "# 2. write a program  to accept the cost price of bike and display the road tax to be paid\n",
    "# according to the following criteria.\n",
    "\n",
    "cost_price = int(input(\"Enter the cost price of the bike: \"))\n",
    "if cost_price > 100000:\n",
    "    print(\"Tax:\",0.15*cost_price)\n",
    "elif cost_price >50000 and cost_price <=100000:\n",
    "    print(\"Tax: \", 0.1 * cost_price)\n",
    "elif cost_price <=50000:\n",
    "    print(\"Tax: \",0.5*cost_price)\n"
   ]
  },
  {
   "cell_type": "code",
   "execution_count": 24,
   "id": "b747cad0",
   "metadata": {},
   "outputs": [
    {
     "name": "stdout",
     "output_type": "stream",
     "text": [
      "Enter the name of the city: Delhi\n",
      "Monuments in  Delhi:Red Fort\n"
     ]
    }
   ],
   "source": [
    "# 3. Accept any city from the user and display monuments of that city.\n",
    "city = input(\"Enter the name of the city: \")\n",
    "city_monuments = {\n",
    "    \"Delhi\" : ['Red Fort'],\n",
    "    \"Agra\" : ['Taj Mahal'],\n",
    "    \"Jaipur\" : ['Jal Mahal']\n",
    "}\n",
    "if city in city_monuments:\n",
    "    monuments = city_monuments[city]\n",
    "    for monument in monuments:\n",
    "        print(\"Monuments in \", city + ':' + monument)"
   ]
  },
  {
   "cell_type": "code",
   "execution_count": 29,
   "id": "000041af",
   "metadata": {},
   "outputs": [
    {
     "name": "stdout",
     "output_type": "stream",
     "text": [
      "enter the number: 45\n",
      "2\n"
     ]
    }
   ],
   "source": [
    "# 4. check how many times a given number can be divided by 3 before it is less than or equal to 10.\n",
    "num = int(input(\"enter the number: \"))\n",
    "def divide_by_three(num):\n",
    "    count = 0\n",
    "    while num>10:\n",
    "        num /=3\n",
    "        count +=1\n",
    "    return count\n",
    "result = divide_by_three(num)\n",
    "print(result)"
   ]
  },
  {
   "cell_type": "code",
   "execution_count": 30,
   "id": "e0f125ff",
   "metadata": {},
   "outputs": [
    {
     "name": "stdout",
     "output_type": "stream",
     "text": [
      "1\n",
      "2\n",
      "3\n",
      "4\n",
      "5\n",
      "6\n",
      "7\n",
      "8\n",
      "9\n",
      "10\n"
     ]
    }
   ],
   "source": [
    "# 5. why and when to use  while loop in python give a detailed description with example.\n",
    "# Ans:- A 'while' loop in python is used to repeat a block of code until a certain\n",
    "#     condition is no longer true. when you want to repeatedly execute a set of instructions until \n",
    "#     a specific condition is met, such as when you need to perform a calculation a certain\n",
    "#     number of times, or when you want to continue processing user input until the user indicates they are done.\n",
    "#     examples\n",
    "\n",
    "count =1\n",
    "while count <=10:\n",
    "    print(count)\n",
    "    count += 1\n",
    "    \n",
    "# In this examples, we initialize a variable called \"count\" to 1, and then use a 'while' loop to print out the value\n",
    "# of 'count' and increment it by 1 on each iteration of the loop. we continue looping\n",
    "# until 'count' is greater than 10, at which point the loop terminates."
   ]
  },
  {
   "cell_type": "code",
   "execution_count": 33,
   "id": "37dfcd6e",
   "metadata": {},
   "outputs": [
    {
     "name": "stdout",
     "output_type": "stream",
     "text": [
      "*\n",
      "**\n",
      "***\n",
      "****\n",
      "*****\n"
     ]
    }
   ],
   "source": [
    "# 6. Use nested while loop to print 3 different pattern\n",
    "\n",
    "# 1. right angled triangle pattern\n",
    "\n",
    "i=1\n",
    "while i<=5:\n",
    "    j=1\n",
    "    while j<=i:\n",
    "        print(\"*\", end='')\n",
    "        j +=1\n",
    "    print()\n",
    "    i +=1\n"
   ]
  },
  {
   "cell_type": "code",
   "execution_count": 34,
   "id": "0678dab5",
   "metadata": {},
   "outputs": [
    {
     "name": "stdout",
     "output_type": "stream",
     "text": [
      "*****\n",
      "****\n",
      "***\n",
      "**\n",
      "*\n"
     ]
    }
   ],
   "source": [
    "# 2. An inverted right triangle patter:\n",
    "i = 5\n",
    "while i>=1:\n",
    "    j=1\n",
    "    while j<=i:\n",
    "        print('*', end='')\n",
    "        j += 1\n",
    "    print()\n",
    "    i -= 1"
   ]
  },
  {
   "cell_type": "code",
   "execution_count": 35,
   "id": "6a706d3e",
   "metadata": {},
   "outputs": [
    {
     "name": "stdout",
     "output_type": "stream",
     "text": [
      "  *\n",
      " ***\n",
      "*****\n",
      " ***\n",
      "  *\n"
     ]
    }
   ],
   "source": [
    "# 3. A diamond pattern\n",
    "i = 1\n",
    "while i <= 3:\n",
    "    j = 1\n",
    "    while j <= 3 - i:\n",
    "        print(' ', end='')\n",
    "        j += 1\n",
    "    k = 1\n",
    "    while k <= 2 * i - 1:\n",
    "        print('*', end='')\n",
    "        k += 1\n",
    "    print()\n",
    "    i += 1\n",
    "\n",
    "i = 2\n",
    "while i >= 1:\n",
    "    j = 1\n",
    "    while j <= 3 - i:\n",
    "        print(' ', end='')\n",
    "        j += 1\n",
    "    k = 1\n",
    "    while k <= 2 * i - 1:\n",
    "        print('*', end='')\n",
    "        k += 1\n",
    "    print()\n",
    "    i -= 1\n"
   ]
  },
  {
   "cell_type": "code",
   "execution_count": 38,
   "id": "e9b87c25",
   "metadata": {},
   "outputs": [
    {
     "name": "stdout",
     "output_type": "stream",
     "text": [
      "10\n",
      "9\n",
      "8\n",
      "7\n",
      "6\n",
      "5\n",
      "4\n",
      "3\n",
      "2\n",
      "1\n"
     ]
    }
   ],
   "source": [
    "# 7. Reverse a while loop to display numbers from 10 to 1.\n",
    "i=10\n",
    "while i>=1:\n",
    "    print(i)\n",
    "    i -=1"
   ]
  },
  {
   "cell_type": "code",
   "execution_count": null,
   "id": "5f4e6106",
   "metadata": {},
   "outputs": [],
   "source": [
    "\n",
    "\n"
   ]
  },
  {
   "cell_type": "code",
   "execution_count": null,
   "id": "9809c2c1",
   "metadata": {},
   "outputs": [],
   "source": []
  }
 ],
 "metadata": {
  "kernelspec": {
   "display_name": "Python 3 (ipykernel)",
   "language": "python",
   "name": "python3"
  },
  "language_info": {
   "codemirror_mode": {
    "name": "ipython",
    "version": 3
   },
   "file_extension": ".py",
   "mimetype": "text/x-python",
   "name": "python",
   "nbconvert_exporter": "python",
   "pygments_lexer": "ipython3",
   "version": "3.10.4"
  }
 },
 "nbformat": 4,
 "nbformat_minor": 5
}
