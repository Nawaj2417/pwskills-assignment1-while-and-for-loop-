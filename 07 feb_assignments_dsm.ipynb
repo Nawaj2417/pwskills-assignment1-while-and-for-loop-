{
 "cells": [
  {
   "cell_type": "code",
   "execution_count": 27,
   "id": "ca13b7c0",
   "metadata": {},
   "outputs": [
    {
     "name": "stdout",
     "output_type": "stream",
     "text": [
      "Enter the password: ADG@#@345\n",
      "Invalid password\n"
     ]
    }
   ],
   "source": [
    "# Q1. You are writing code for a company. The requirement of the company is that you create a python\n",
    "# function that will check whether the password entered by the user is correct or not. The function should\n",
    "# take the password as input and return the string “Valid Password” if the entered password follows the\n",
    "# below-given password guidelines else it should return “Invalid Password”.\n",
    "# Note: 1. The Password should contain at least two uppercase letters and at least two lowercase letters.\n",
    "# 2. The Password should contain at least a number and three special characters.\n",
    "# 3. The length of the password should be 10 characters long.\n",
    "import re\n",
    "password = input(\"Enter the password: \")\n",
    "\n",
    "def check_password(psw):\n",
    "    if len(password) != 10:\n",
    "        return \"Invalid password\"\n",
    "    elif len(re.findall('[A-Z]',password))<2:\n",
    "        return \"invalid password\"\n",
    "    elif len(re.findall('[a-z]', password)) <2:\n",
    "        return \"invalid password\"\n",
    "    elif len(re.findall('[^a-zA-Z\\d\\s]',password))<3:\n",
    "        return \"invalid password\"\n",
    "    else:\n",
    "        return \"valid password\"\n",
    "print(check_password(password))"
   ]
  },
  {
   "cell_type": "code",
   "execution_count": null,
   "id": "36688db0",
   "metadata": {},
   "outputs": [],
   "source": [
    "# Q2. Solve the below-given questions using at least one of the following:\n",
    "# 1. Lambda functioJ\n",
    "# 2. Filter functioJ\n",
    "# 3. Zap functioJ\n",
    "# 4. List ComprehensioI\n",
    "# B Check if the string starts with a particular letterY\n",
    "# B Check if the string is numericY\n",
    "# B Sort a list of tuples having fruit names and their quantity. [(\"mango\",99),(\"orange\",80), (\"grapes\", 1000)-\n",
    "# B Find the squares of numbers from 1 to 10Y\n",
    "# B Find the cube root of numbers from 1 to 10Y\n",
    "# B Check if a given number is evenY\n",
    "# B Filter odd numbers from the given list.\n",
    "# [1,2,3,4,5,6,7,8,9,10-\n",
    "# B Sort a list of integers into positive and negative integers lists.\n",
    "# [1,2,3,4,5,6,-1,-2,-3,-4,-5,0]"
   ]
  },
  {
   "cell_type": "code",
   "execution_count": 6,
   "id": "b2efe319",
   "metadata": {},
   "outputs": [
    {
     "name": "stdout",
     "output_type": "stream",
     "text": [
      "['apple']\n"
     ]
    }
   ],
   "source": [
    "# 1.check if the string starts with a particular letter .\n",
    "# filter function\n",
    "word = ['apple','manago', 'cherry','Banana']\n",
    "start_with_a = list(filter(lambda word: word.startswith('a'),word))\n",
    "print(start_with_a)"
   ]
  },
  {
   "cell_type": "code",
   "execution_count": 8,
   "id": "cd85abb1",
   "metadata": {},
   "outputs": [
    {
     "name": "stdout",
     "output_type": "stream",
     "text": [
      "[True, False, False, False]\n"
     ]
    }
   ],
   "source": [
    "# 2.check if the string is numeric\n",
    "\n",
    "strings = ['123', 'abc', '45.67', '53%']\n",
    "is_numeric = [s.isnumeric() for s in strings]\n",
    "print(is_numeric) "
   ]
  },
  {
   "cell_type": "code",
   "execution_count": 9,
   "id": "31a4cb4c",
   "metadata": {},
   "outputs": [
    {
     "name": "stdout",
     "output_type": "stream",
     "text": [
      "[('orange', 80), ('mango', 99), ('grapes', 1000)]\n"
     ]
    }
   ],
   "source": [
    "#  Sort a list of tuples having fruit names and their quantity. [(\"mango\",99),(\"orange\",80), (\"grapes\", 1000)-\n",
    "\n",
    "l1 =  [(\"mango\",99),(\"orange\",80), (\"grapes\", 1000)]\n",
    "fruits = sorted(l1, key=lambda x:x[1])\n",
    "print(fruits)\n"
   ]
  },
  {
   "cell_type": "code",
   "execution_count": 11,
   "id": "a4dced83",
   "metadata": {},
   "outputs": [
    {
     "name": "stdout",
     "output_type": "stream",
     "text": [
      "[1, 4, 9, 16, 25, 36, 49, 64, 81, 100]\n"
     ]
    }
   ],
   "source": [
    "# Find the squares of numbers from 1 to 10Y\n",
    "number =[x**2 for x in range(1,11)]\n",
    "print(number)"
   ]
  },
  {
   "cell_type": "code",
   "execution_count": 14,
   "id": "68964873",
   "metadata": {},
   "outputs": [
    {
     "name": "stdout",
     "output_type": "stream",
     "text": [
      "[1.0, 1.2599210498948732, 1.4422495703074083, 1.5874010519681994, 1.7099759466766968, 1.8171205928321397, 1.912931182772389, 2.0, 2.080083823051904, 2.154434690031884]\n"
     ]
    }
   ],
   "source": [
    "# Find the cube root of numbers from 1 to 10Y\n",
    "import math\n",
    "number = [math.pow(x,1/3) for x in range(1,11)]\n",
    "print(number)"
   ]
  },
  {
   "cell_type": "code",
   "execution_count": 23,
   "id": "549af323",
   "metadata": {},
   "outputs": [
    {
     "name": "stdout",
     "output_type": "stream",
     "text": [
      "True\n"
     ]
    }
   ],
   "source": [
    "# Check if a given number is evenY\n",
    "# number = int(input(\"Enter the number: \"))\n",
    "even = lambda x: x%2 ==0\n",
    "print(even(32))\n"
   ]
  },
  {
   "cell_type": "code",
   "execution_count": 25,
   "id": "b81cca1d",
   "metadata": {},
   "outputs": [
    {
     "name": "stdout",
     "output_type": "stream",
     "text": [
      "[1, 3, 5, 7, 9]\n"
     ]
    }
   ],
   "source": [
    "# Filter odd numbers from the given list.\n",
    "number = [1,2,3,4,5,6,7,8,9,10]\n",
    "odd_numbers = list(filter(lambda x : x%2 !=0, number))\n",
    "print(odd_numbers)"
   ]
  },
  {
   "cell_type": "code",
   "execution_count": 26,
   "id": "f6d39fb9",
   "metadata": {},
   "outputs": [
    {
     "name": "stdout",
     "output_type": "stream",
     "text": [
      "positive numbers:  [1, 2, 3, 4, 5, 6]\n",
      "Negative numbers:  [-1, -2, -3, -4, -5]\n"
     ]
    }
   ],
   "source": [
    "# B Sort a list of integers into positive and negative integers lists.\n",
    "# # [1,2,3,4,5,6,-1,-2,-3,-4,-5,0]\n",
    "integers = [1,2,3,4,5,6,-1,-2,-3,-4,-5,0]\n",
    "pos_num = list(filter(lambda x: x>0, integers))\n",
    "neg_num = list(filter(lambda x: x<0, integers))\n",
    "print(\"positive numbers: \", pos_num)\n",
    "print(\"Negative numbers: \", neg_num)"
   ]
  },
  {
   "cell_type": "code",
   "execution_count": null,
   "id": "5df5f852",
   "metadata": {},
   "outputs": [],
   "source": []
  }
 ],
 "metadata": {
  "kernelspec": {
   "display_name": "Python 3 (ipykernel)",
   "language": "python",
   "name": "python3"
  },
  "language_info": {
   "codemirror_mode": {
    "name": "ipython",
    "version": 3
   },
   "file_extension": ".py",
   "mimetype": "text/x-python",
   "name": "python",
   "nbconvert_exporter": "python",
   "pygments_lexer": "ipython3",
   "version": "3.10.4"
  }
 },
 "nbformat": 4,
 "nbformat_minor": 5
}
