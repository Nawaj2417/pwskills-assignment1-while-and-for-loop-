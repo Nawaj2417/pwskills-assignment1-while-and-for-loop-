{
 "cells": [
  {
   "cell_type": "code",
   "execution_count": 7,
   "id": "ddf11cce",
   "metadata": {},
   "outputs": [
    {
     "data": {
      "text/plain": [
       "('Toyota', 'camry', 2020, 'Black')"
      ]
     },
     "execution_count": 7,
     "metadata": {},
     "output_type": "execute_result"
    }
   ],
   "source": [
    "# Q1. Explain Class and Object with respect to Object-Oriented Programming. Give a suitable example.\n",
    "# Ans :- A class is a blueprint for creating objects. It is a common structure and behaviour\n",
    "#     for objects, including data members and member function.\n",
    "#     similarly, An object is an instance of a class. we can take as if class is a blueprint of \n",
    "#     factory, then an object is a product of that factory.\n",
    "    \n",
    "#     examples of class:\n",
    "class Car:\n",
    "    def __init__(self, make, model, year, color):\n",
    "        self.make = make\n",
    "        self.model = model\n",
    "        self.year = year\n",
    "        self.color = color\n",
    "    def car_details(self):\n",
    "        return self.make, self.model, self.year, self.color\n",
    "        \n",
    "# You can create an object for the Car class like this\n",
    "car = Car('Toyota', 'camry', 2020, 'Black')\n",
    "car.car_details()"
   ]
  },
  {
   "cell_type": "code",
   "execution_count": 8,
   "id": "8e130187",
   "metadata": {},
   "outputs": [],
   "source": [
    "# Q2. Name the four pillars of OOPs.\n",
    "# Ans:- The four pillars of OOPs are inheritance, encapsulation, Abstraction and polymorphism"
   ]
  },
  {
   "cell_type": "code",
   "execution_count": 10,
   "id": "ec012082",
   "metadata": {},
   "outputs": [],
   "source": [
    "# Q3. Explain why the __init__() function is used. Give a suitable example."
   ]
  },
  {
   "cell_type": "code",
   "execution_count": 12,
   "id": "0facacc6",
   "metadata": {},
   "outputs": [
    {
     "name": "stdout",
     "output_type": "stream",
     "text": [
      "Name: Nawaj\n",
      "Age:  22\n"
     ]
    }
   ],
   "source": [
    "# Ans:- The '__init__()' function is also known as constructor which is used to \n",
    "#     initialize the attributes of an object when it is created. The \"__init__()\" method is \n",
    "#     automatically called when a new object is created from a class and it allows you to specify the default\n",
    "#     values for the attributes.\n",
    "\n",
    "# examples:-\n",
    "class Person:\n",
    "    def __init__(self, name,age):\n",
    "        self.name = name\n",
    "        self.age = age\n",
    "person = Person('Nawaj', 22)\n",
    "print(\"Name:\" , person.name)\n",
    "print(\"Age: \", person.age)\n",
    "\n"
   ]
  },
  {
   "cell_type": "code",
   "execution_count": 13,
   "id": "7079ede8",
   "metadata": {},
   "outputs": [
    {
     "name": "stdout",
     "output_type": "stream",
     "text": [
      "Name:  Brokly\n",
      "Age:  24\n"
     ]
    }
   ],
   "source": [
    "# Q4. Why self is used in OOPs?\n",
    "# Ans:- The 'self' keyword is used as a reference to the instance of the class being\n",
    "#     created. It is used to access the attributes and methods of the class within the\n",
    "#     class definition.\n",
    "\n",
    "# for examples:-\n",
    "class Person:\n",
    "    def __init__(self, name, age):\n",
    "        self.name = name\n",
    "        self.age = age\n",
    "    def person_info(self):\n",
    "        print(\"Name: \" , self.name)\n",
    "        print(\"Age: \", self.age)\n",
    "person = Person(\"Brokly\", 24)\n",
    "person.person_info()\n",
    "\n",
    "# In this examples, \"person_info\" methods takes 'self' arguments which is used to access the 'name'\n",
    "# and 'age' attributes of the object from the 'Person' class."
   ]
  },
  {
   "cell_type": "code",
   "execution_count": 14,
   "id": "089fdf30",
   "metadata": {},
   "outputs": [],
   "source": [
    "# Q5. What is inheritance? Give an example for each type of inheritance."
   ]
  },
  {
   "cell_type": "code",
   "execution_count": 7,
   "id": "283260b8",
   "metadata": {},
   "outputs": [],
   "source": [
    "# Ans:- Inheritance is a fundamental concept in OOPs that allows you to create a\n",
    "#     new class based on an existing class.\n",
    "#     It's types:- multi level inheritance and multi inheritance\n",
    "    \n",
    "#     examples of multiple inheritance\n",
    "\n",
    "class Engine:\n",
    "    def __init__(self, horsepower, cylinders):\n",
    "        self.horsepower = horsepower\n",
    "        self.cylinders = cylinders\n",
    "        \n",
    "    def engine_info(self):\n",
    "        print(\"Horsepower: \", self.horsepower)\n",
    "        print(\"cylinders: \", self.cylinders)\n",
    "        \n",
    "class Body:\n",
    "    def __init__(self, doors, seats):\n",
    "        self.doors = doors\n",
    "        self.seats = seats\n",
    "        \n",
    "    def body_info(self):\n",
    "        print(\"Doors: \", self.doors)\n",
    "        print(\"seats: \", self.seats)\n",
    "        \n",
    "class Car(Engine, Body):\n",
    "    def __init__(self,make, model,year, horsepower, cylinders, doors, seats):\n",
    "        Engine.__init__(self, horsepower,cylinders)\n",
    "        Body.__init__(self,doors, seats)\n",
    "        self.make = make\n",
    "        self.model = model\n",
    "        self.year = year\n",
    "        \n",
    "    def car_info(self):\n",
    "        Engine.engine_info(self)\n",
    "        Body.body_info(self)\n",
    "        print(\"make: \", self.make)\n",
    "        print(\"models: \", self.model)\n",
    "        \n",
    "        \n"
   ]
  },
  {
   "cell_type": "code",
   "execution_count": 8,
   "id": "9bc2ba6a",
   "metadata": {},
   "outputs": [],
   "source": [
    "car = Car(\"Toyota\",'Honda', 2020, 180, 4,4,5)"
   ]
  },
  {
   "cell_type": "code",
   "execution_count": 9,
   "id": "c0607ee6",
   "metadata": {},
   "outputs": [
    {
     "name": "stdout",
     "output_type": "stream",
     "text": [
      "Horsepower:  180\n",
      "cylinders:  4\n",
      "Doors:  4\n",
      "seats:  5\n",
      "make:  Toyota\n",
      "models:  Honda\n"
     ]
    }
   ],
   "source": [
    "car.car_info()"
   ]
  },
  {
   "cell_type": "code",
   "execution_count": 10,
   "id": "02230553",
   "metadata": {},
   "outputs": [],
   "source": [
    "# multilevel inheritance\n",
    "class Animal:\n",
    "    def __init__(self, species):\n",
    "        self.species = species\n",
    "    \n",
    "    def animal_info(self):\n",
    "        print(\"species: \", self.species)\n",
    "        \n",
    "class Mammal(Animal):\n",
    "    def __init__(self, species, habitat):\n",
    "        Animal.__init__(self,species)\n",
    "        self.habitat = habitat\n",
    "        \n",
    "    def mammal_info(self):\n",
    "        print('Habitat: ', self.habitat)\n",
    "        \n",
    "class Dog(Mammal):\n",
    "    def __init__(self,breed):\n",
    "        Mammal.__init__(self, 'canis lupus', 'Terrestrial')\n",
    "        self.breed = breed\n",
    "        \n",
    "    def dog_info(self):\n",
    "        Mammal.mammal_info(self)\n",
    "        print(\"Breed: \", self.breed)"
   ]
  },
  {
   "cell_type": "code",
   "execution_count": 11,
   "id": "13d6ebe5",
   "metadata": {},
   "outputs": [
    {
     "name": "stdout",
     "output_type": "stream",
     "text": [
      "Habitat:  Terrestrial\n",
      "Breed:  Labrador Retriever\n"
     ]
    }
   ],
   "source": [
    "dog = Dog('Labrador Retriever')\n",
    "dog.dog_info()"
   ]
  },
  {
   "cell_type": "code",
   "execution_count": null,
   "id": "97559fbe",
   "metadata": {},
   "outputs": [],
   "source": []
  }
 ],
 "metadata": {
  "kernelspec": {
   "display_name": "Python 3 (ipykernel)",
   "language": "python",
   "name": "python3"
  },
  "language_info": {
   "codemirror_mode": {
    "name": "ipython",
    "version": 3
   },
   "file_extension": ".py",
   "mimetype": "text/x-python",
   "name": "python",
   "nbconvert_exporter": "python",
   "pygments_lexer": "ipython3",
   "version": "3.10.4"
  }
 },
 "nbformat": 4,
 "nbformat_minor": 5
}
