{
 "cells": [
  {
   "cell_type": "code",
   "execution_count": 4,
   "id": "43af9137",
   "metadata": {},
   "outputs": [
    {
     "ename": "SyntaxError",
     "evalue": "invalid syntax (477025795.py, line 16)",
     "output_type": "error",
     "traceback": [
      "\u001b[1;36m  Cell \u001b[1;32mIn [4], line 16\u001b[1;36m\u001b[0m\n\u001b[1;33m    x = 10 print(\"hello world\")\u001b[0m\n\u001b[1;37m           ^\u001b[0m\n\u001b[1;31mSyntaxError\u001b[0m\u001b[1;31m:\u001b[0m invalid syntax\n"
     ]
    }
   ],
   "source": [
    "# Q1.What is an exception in python? Write the difference between Exceptions and syntax errors\n",
    "# Ans:- Exception in python is an error that occurs during the execution of a program.It raised when some internal events occur which\n",
    "#     changes the normal flow of the program.\n",
    "    \n",
    "# The difference between exceptions and syntax error is that exceptions occur during the\n",
    "# execution of a program , while syntax occurs before  the program is executed.\n",
    "\n",
    "# examples of exception:-\n",
    "a = \"Hello\"\n",
    "b = 23\n",
    "c = a+b\n",
    "print(c)\n",
    "# This error is called \"TypeError: can only concatenate str (not \"int\") to str\" exception.\n",
    "\n",
    "# examples of syntax error\n",
    "x = 10 print(\"hello world\")\n",
    "\n",
    "# SyntaxError: invalid syntax\n",
    "\n",
    "\n"
   ]
  },
  {
   "cell_type": "code",
   "execution_count": 13,
   "id": "089c9c60",
   "metadata": {},
   "outputs": [
    {
     "name": "stdout",
     "output_type": "stream",
     "text": [
      "You cannot divide by zero\n"
     ]
    }
   ],
   "source": [
    "# Q2. what happens when an exception is not handled? Explain with an example.\n",
    "# Ans:- when an exception is not handled, the program will terminate suddenly and display\n",
    "#     an error message that includes the type of exception and a traceback.\n",
    "    \n",
    "#     examples:\n",
    "try:\n",
    "    a = 4\n",
    "    b =0\n",
    "    c = a/b\n",
    "    print(c)\n",
    "except Exception as e:\n",
    "    print(\"You cannot divide by zero\")\n",
    "# In this examples, the program attempts to divide 4/0,which will raise ZeroDivisionErro.The 'Try'\n",
    "# block encloses the operation and run the 'except' block handles by printing an error message to the user.    "
   ]
  },
  {
   "cell_type": "code",
   "execution_count": 15,
   "id": "a41b66ae",
   "metadata": {},
   "outputs": [
    {
     "name": "stdout",
     "output_type": "stream",
     "text": [
      "Enter the numberhello\n",
      "please enter the integer number only\n"
     ]
    }
   ],
   "source": [
    "# 3. which python statements are used to catch and handle exceptions? Explain with an example.\n",
    "# Ans:- In python , exceptions can be caught and handled by using the \"try\" and \"except\" statement.\n",
    "#     The 'try' statements encloses the code that might  raise an exception. If an exception occurs\n",
    "#     within the 'try' block, the program will jump immediately to the corresponding 'except' block.\n",
    "    \n",
    "#     examples:\n",
    "\n",
    "try:\n",
    "    a = int(input(\"Enter the number\"))\n",
    "except Exception as e:\n",
    "    print(\"please enter the integer number only\")\n",
    "    \n",
    "# In this example, the 'try' statements attempt to take only integer number using int() function,\n",
    "# However, this string cannot be converted into integer , so a 'valueError' arise in which 'except ' catched\n",
    "# this error and print the message."
   ]
  },
  {
   "cell_type": "code",
   "execution_count": 19,
   "id": "4232902d",
   "metadata": {},
   "outputs": [
    {
     "name": "stdout",
     "output_type": "stream",
     "text": [
      "Enter the first number: 34\n",
      "Enter the second number: 43\n",
      "The sum of the number is:  77\n"
     ]
    }
   ],
   "source": [
    "# Q4. Explain with an example:\n",
    "# a. try and else\n",
    "\n",
    "try:\n",
    "    a = int(input(\"Enter the first number: \"))\n",
    "    b = int(input(\"Enter the second number: \"))\n",
    "    c = a+b\n",
    "    \n",
    "except Exception as e:\n",
    "    print(\"Invalid number\")\n",
    "else:\n",
    "    print(\"The sum of the number is: \", c)\n",
    "# In this example, the program will take two input number from the user and if the \n",
    "# number is valid then print the number in using else function if not then print the \n",
    "# exception error message.\n",
    "    "
   ]
  },
  {
   "cell_type": "code",
   "execution_count": 3,
   "id": "432ceb18",
   "metadata": {},
   "outputs": [
    {
     "name": "stdout",
     "output_type": "stream",
     "text": [
      "The file is executed\n"
     ]
    },
    {
     "ename": "FileNotFoundError",
     "evalue": "[Errno 2] No such file or directory: 'world.txt'",
     "output_type": "error",
     "traceback": [
      "\u001b[1;31m---------------------------------------------------------------------------\u001b[0m",
      "\u001b[1;31mFileNotFoundError\u001b[0m                         Traceback (most recent call last)",
      "Cell \u001b[1;32mIn [3], line 3\u001b[0m\n\u001b[0;32m      1\u001b[0m \u001b[38;5;66;03m# b.finally\u001b[39;00m\n\u001b[0;32m      2\u001b[0m \u001b[38;5;28;01mtry\u001b[39;00m:\n\u001b[1;32m----> 3\u001b[0m     f \u001b[38;5;241m=\u001b[39m \u001b[38;5;28;43mopen\u001b[39;49m\u001b[43m(\u001b[49m\u001b[38;5;124;43m\"\u001b[39;49m\u001b[38;5;124;43mworld.txt\u001b[39;49m\u001b[38;5;124;43m\"\u001b[39;49m\u001b[43m,\u001b[49m\u001b[43m \u001b[49m\u001b[38;5;124;43m'\u001b[39;49m\u001b[38;5;124;43mr\u001b[39;49m\u001b[38;5;124;43m'\u001b[39;49m\u001b[43m)\u001b[49m\n\u001b[0;32m      4\u001b[0m     f\u001b[38;5;241m.\u001b[39mwrite(\u001b[38;5;124m\"\u001b[39m\u001b[38;5;124mHello world\u001b[39m\u001b[38;5;124m\"\u001b[39m)\n\u001b[0;32m      5\u001b[0m \u001b[38;5;28;01mfinally\u001b[39;00m:\n",
      "\u001b[1;31mFileNotFoundError\u001b[0m: [Errno 2] No such file or directory: 'world.txt'"
     ]
    }
   ],
   "source": [
    "# b.finally\n",
    "try:\n",
    "    f = open(\"world.txt\", 'r')\n",
    "    f.write(\"Hello world\")\n",
    "finally:\n",
    "    print(\"The file is executed\")\n",
    "    \n",
    "# In this example, whather the program is giving error or run in \"try\" statement , it \n",
    "# doesnot matter for 'finally' statements. \"finally\" statements execute the program\n",
    "# in every condition.\n"
   ]
  },
  {
   "cell_type": "code",
   "execution_count": 9,
   "id": "d00dff4d",
   "metadata": {},
   "outputs": [
    {
     "ename": "Exception",
     "evalue": "An error occured while dividing by zero",
     "output_type": "error",
     "traceback": [
      "\u001b[1;31m---------------------------------------------------------------------------\u001b[0m",
      "\u001b[1;31mZeroDivisionError\u001b[0m                         Traceback (most recent call last)",
      "Cell \u001b[1;32mIn [9], line 2\u001b[0m\n\u001b[0;32m      1\u001b[0m \u001b[38;5;28;01mtry\u001b[39;00m:\n\u001b[1;32m----> 2\u001b[0m     x \u001b[38;5;241m=\u001b[39m \u001b[38;5;241;43m10\u001b[39;49m\u001b[38;5;241;43m/\u001b[39;49m\u001b[38;5;241;43m0\u001b[39;49m\n\u001b[0;32m      3\u001b[0m \u001b[38;5;28;01mexcept\u001b[39;00m \u001b[38;5;167;01mException\u001b[39;00m \u001b[38;5;28;01mas\u001b[39;00m e:\n",
      "\u001b[1;31mZeroDivisionError\u001b[0m: division by zero",
      "\nDuring handling of the above exception, another exception occurred:\n",
      "\u001b[1;31mException\u001b[0m                                 Traceback (most recent call last)",
      "Cell \u001b[1;32mIn [9], line 4\u001b[0m\n\u001b[0;32m      2\u001b[0m     x \u001b[38;5;241m=\u001b[39m \u001b[38;5;241m10\u001b[39m\u001b[38;5;241m/\u001b[39m\u001b[38;5;241m0\u001b[39m\n\u001b[0;32m      3\u001b[0m \u001b[38;5;28;01mexcept\u001b[39;00m \u001b[38;5;167;01mException\u001b[39;00m \u001b[38;5;28;01mas\u001b[39;00m e:\n\u001b[1;32m----> 4\u001b[0m      \u001b[38;5;28;01mraise\u001b[39;00m \u001b[38;5;167;01mException\u001b[39;00m (\u001b[38;5;124m\"\u001b[39m\u001b[38;5;124mAn error occured while dividing by zero\u001b[39m\u001b[38;5;124m\"\u001b[39m)\n",
      "\u001b[1;31mException\u001b[0m: An error occured while dividing by zero"
     ]
    }
   ],
   "source": [
    "try:\n",
    "    x = 10/0\n",
    "except Exception as e:\n",
    "     raise Exception (\"An error occured while dividing by zero\")\n",
    "\n",
    "# In this examples , we are trying to divide the number 10 by zero, which would \n",
    "# raise a \"ZeroDivisionError\" exception. The exception is catch and raise the exception \n",
    "# using \"raise statement \" which print the messages of \"Exception: An error occured while dividing by zer0\""
   ]
  },
  {
   "cell_type": "code",
   "execution_count": 13,
   "id": "30b0255a",
   "metadata": {},
   "outputs": [
    {
     "name": "stdout",
     "output_type": "stream",
     "text": [
      "Enter the positive integer only: -34\n",
      "Invalid number, please enter positive number\n"
     ]
    }
   ],
   "source": [
    "# Q5. What are custom Exceptions in python ? Why do we need custom Exceptions? Explains\n",
    "# with an example.\n",
    "# Q6. Create a custom exception class. Use this class to handle an exception.\n",
    "# Ans:-In python, custom exceptions are user-defined exceptions that inherit from\n",
    "#     the base 'Exception' class. They are used to handle specific types of errors\n",
    "#     or exceptional situations in a program that are not covered by built-in exceptions.\n",
    "#      we need custom Exceptions to create our own error types that are specific to our \n",
    "#         Application.\n",
    "# Examples:-\n",
    "class numbers(Exception):\n",
    "    def __init__(self, msg):\n",
    "            self.msg = msg\n",
    "def valid(num):\n",
    "    if num < 0 :\n",
    "        raise numbers(\"Invalid number, please enter positive number\")\n",
    "    else:\n",
    "        print(\"valid number\")\n",
    "try:\n",
    "    num = int(input(\"Enter the positive integer only: \"))\n",
    "    valid(num)\n",
    "except numbers as e:\n",
    "    print(e)\n"
   ]
  },
  {
   "cell_type": "code",
   "execution_count": null,
   "id": "569b30d6",
   "metadata": {},
   "outputs": [],
   "source": []
  }
 ],
 "metadata": {
  "kernelspec": {
   "display_name": "Python 3 (ipykernel)",
   "language": "python",
   "name": "python3"
  },
  "language_info": {
   "codemirror_mode": {
    "name": "ipython",
    "version": 3
   },
   "file_extension": ".py",
   "mimetype": "text/x-python",
   "name": "python",
   "nbconvert_exporter": "python",
   "pygments_lexer": "ipython3",
   "version": "3.10.4"
  }
 },
 "nbformat": 4,
 "nbformat_minor": 5
}
