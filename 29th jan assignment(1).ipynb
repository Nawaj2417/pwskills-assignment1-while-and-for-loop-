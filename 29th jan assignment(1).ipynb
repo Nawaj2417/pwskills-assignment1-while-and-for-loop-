{
 "cells": [
  {
   "cell_type": "code",
   "execution_count": 1,
   "id": "0920a1a8",
   "metadata": {},
   "outputs": [],
   "source": [
    "# 1. who developed python programming language?\n",
    "# Ans:- Python was created by Guido van Rossum, a Dutch programmer, in the late 1980s and first released in 1991."
   ]
  },
  {
   "cell_type": "code",
   "execution_count": 2,
   "id": "3440e129",
   "metadata": {},
   "outputs": [],
   "source": [
    "# 2. which type of programming does python support?\n",
    "# Ans:- Python is a multi-paradigm programming language that supports object-oriented, structured, and functional programming styles. It also has support for aspect-oriented programming and some other programming paradigms."
   ]
  },
  {
   "cell_type": "code",
   "execution_count": 3,
   "id": "bbb72e5d",
   "metadata": {},
   "outputs": [],
   "source": [
    "# 3. is python case sensitive when dealing with identifiers?\n",
    "# Ans:- Yes, Python is a case-sensitive language, which means that identifiers (such as variables, functions, and class names) with the same spelling but different capitalization are treated as different entities. For example, the variables my_var, my_Var, and My_Var are different variables in Python."
   ]
  },
  {
   "cell_type": "code",
   "execution_count": 4,
   "id": "6cc2d86d",
   "metadata": {},
   "outputs": [],
   "source": [
    "# What is the correct extension of the python file?\n",
    "# Ans:- The correct extension of the python file is '.py'"
   ]
  },
  {
   "cell_type": "code",
   "execution_count": 5,
   "id": "c547d719",
   "metadata": {},
   "outputs": [],
   "source": [
    "# #5. Is python code compiled or interpreted?\n",
    "# Ans:- python code is interpreted language in which compilation and interpretation process is handled\n",
    "#     by the python interpreter, which reads the source code, compiles it into bytecode and then interprets the bytecode."
   ]
  },
  {
   "cell_type": "code",
   "execution_count": 6,
   "id": "57f48829",
   "metadata": {},
   "outputs": [],
   "source": [
    "# 6. Name a few blocks of code used to define in python language?\n",
    "# Ans:- Any of blocks of code used to define in python language are:-\n",
    "#         1. function block,\n",
    "#         2. conditional block,\n",
    "#         3.loop blocks,\n",
    "#         4.class blocks\n"
   ]
  },
  {
   "cell_type": "code",
   "execution_count": 7,
   "id": "078d2ae9",
   "metadata": {},
   "outputs": [],
   "source": [
    "# 7.  state a character used to give single-line comments in python?\n",
    "# Ans:- In Python, the '#'character is used to indicate a single-line comment"
   ]
  },
  {
   "cell_type": "code",
   "execution_count": 8,
   "id": "04924fdc",
   "metadata": {},
   "outputs": [],
   "source": [
    "# 8. Mention functions  which can help us to find the version of python that we are currently working on?\n",
    "# Ans:- 'sys.version' and 'platform.python_version()' helps us to find the version of python that we are currently working on."
   ]
  },
  {
   "cell_type": "code",
   "execution_count": 9,
   "id": "3a07a94a",
   "metadata": {},
   "outputs": [],
   "source": [
    "# 9. python supports the creation of anonymous functions at runtime,using a construct called-------\n",
    "# Ans:- In python , anonymous functions can be created at runtime using  a construct called 'lambda' \n",
    "#     function or lambda expressions. It can take  any number of arguments, but can only\n",
    "#     have one expression.\n"
   ]
  },
  {
   "cell_type": "code",
   "execution_count": 10,
   "id": "d5adcded",
   "metadata": {},
   "outputs": [],
   "source": [
    "# 10. what does pip stand for python?\n",
    "# Ans:-  PIP stands for 'Pip installs packages' or 'pip installs python' . \n"
   ]
  },
  {
   "cell_type": "code",
   "execution_count": 12,
   "id": "6d678d7c",
   "metadata": {},
   "outputs": [],
   "source": [
    "# 11.Mention a few built-in functions in python ?\n",
    "# Ans:- A few built in functions in python are :- 'print()', 'len()', 'type()', 'range()',\n",
    "#         input(), 'str()', 'int()','float()', 'max()' and 'min()'"
   ]
  },
  {
   "cell_type": "code",
   "execution_count": 14,
   "id": "096bf3e9",
   "metadata": {},
   "outputs": [],
   "source": [
    "# 12. what is the maximum possible length of an identifier in python?\n",
    "# Ans:- There is no defined maximum length of an identifier in python , but the PEP8 \n",
    "#     style guide suggests that identifiers should be at most 79 characters long."
   ]
  },
  {
   "cell_type": "code",
   "execution_count": 15,
   "id": "b0705c8e",
   "metadata": {},
   "outputs": [],
   "source": [
    "# 13. what are the benefits  of using python?\n",
    "# Ans:- The benefits of using python are:- \n",
    "#         1. Easy to learn and use\n",
    "#         2. open source\n",
    "#         3. Large community\n",
    "#         4. Multi- paradigm\n",
    "#         5. Cross - platform\n",
    "#         6. Extensive libraries\n",
    "#         7. High-level language\n",
    "#         8. Scalable"
   ]
  },
  {
   "cell_type": "code",
   "execution_count": 16,
   "id": "6f6f3bc7",
   "metadata": {},
   "outputs": [],
   "source": [
    "# 14. How is memory managed in python?\n",
    "# Ans:- Memory management in python is handled automatically by the python interpreter using a \n",
    "#     technique called \"garbage collection\". Python uses several strategies to help minimize the impact of garbage collection\n",
    "#     on performance.some of them are:-\n",
    "#         1. Reference counting\n",
    "#         2. Generational garbage collection\n",
    "#         3. Memory pooling."
   ]
  },
  {
   "cell_type": "code",
   "execution_count": 17,
   "id": "d5ce471e",
   "metadata": {},
   "outputs": [],
   "source": [
    "# 15. How to install python on windows and set path variables?\n",
    "# Ans:- Here are the steps to install Python on Windows and set the path variables:\n",
    "\n",
    "#     1. Download the latest version of Python from the official website at https://www.python.org/downloads/windows/. Choose the appropriate version for your system (32-bit or 64-bit).\n",
    "\n",
    "#     2.Run the installer and follow the instructions to install Python. By default, Python is installed in the \"C:\\Python\" directory.\n",
    "\n",
    "#     3. After the installation is complete, open the Start menu and search for \"Environment Variables\".\n",
    "\n",
    "#     4. Click on \"Edit the system environment variables\".\n",
    "\n",
    "#     5. Click on the \"Environment Variables\" button at the bottom of the dialog box.\n",
    "\n",
    "#     6. Under \"System Variables\", scroll down and find the \"Path\" variable. Click on the \"Edit\" button.\n",
    "\n",
    "#     7. Click on the \"New\" button and add the path to the Python installation directory. By default, it is \"C:\\Python\\Scripts\" and \"C:\\Python\".\n",
    "\n",
    "#     8. Click \"OK\" on all of the dialog boxes to save the changes.\n",
    "\n",
    "#     9. Open a command prompt and type \"python\". If the installation was successful, you should see the Python interpreter start up.\n",
    "\n",
    "#     10.To test the installation further, type \"print('Hello, World!')\" and hit enter. If the installation was successful, you should see the output \"Hello, World!\" printed to the console."
   ]
  },
  {
   "cell_type": "code",
   "execution_count": null,
   "id": "530d8f0c",
   "metadata": {},
   "outputs": [],
   "source": [
    "# 16. Is indentation required in python ?\n",
    "# Ans:- Yes, indentation is required in python. Python uses indentation to define the scope\n",
    "#     blocks, such as loops, conditionals, functions, and classes. If you do not properly\n",
    "#     indent your code in python, you will get a syntax error."
   ]
  }
 ],
 "metadata": {
  "kernelspec": {
   "display_name": "Python 3 (ipykernel)",
   "language": "python",
   "name": "python3"
  },
  "language_info": {
   "codemirror_mode": {
    "name": "ipython",
    "version": 3
   },
   "file_extension": ".py",
   "mimetype": "text/x-python",
   "name": "python",
   "nbconvert_exporter": "python",
   "pygments_lexer": "ipython3",
   "version": "3.10.4"
  }
 },
 "nbformat": 4,
 "nbformat_minor": 5
}
